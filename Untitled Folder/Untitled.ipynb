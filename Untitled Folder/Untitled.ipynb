{
 "cells": [
  {
   "cell_type": "code",
   "execution_count": 30,
   "id": "8ec280ef",
   "metadata": {
    "scrolled": true
   },
   "outputs": [
    {
     "ename": "ValueError",
     "evalue": "cannot reshape array of size 34262 into shape (1024,1024)",
     "output_type": "error",
     "traceback": [
      "\u001b[1;31m---------------------------------------------------------------------------\u001b[0m",
      "\u001b[1;31mValueError\u001b[0m                                Traceback (most recent call last)",
      "\u001b[1;32m~\\AppData\\Local\\Temp\\ipykernel_5608\\1282648724.py\u001b[0m in \u001b[0;36m<module>\u001b[1;34m\u001b[0m\n\u001b[0;32m      4\u001b[0m \u001b[0mfilename\u001b[0m \u001b[1;33m=\u001b[0m \u001b[1;34m'C:/Users/User/Desktop/exelenteam/python/Notebooks/week05/resources/logo.jpg'\u001b[0m\u001b[1;33m\u001b[0m\u001b[1;33m\u001b[0m\u001b[0m\n\u001b[0;32m      5\u001b[0m \u001b[0mA\u001b[0m \u001b[1;33m=\u001b[0m \u001b[0mnp\u001b[0m\u001b[1;33m.\u001b[0m\u001b[0mfromfile\u001b[0m\u001b[1;33m(\u001b[0m\u001b[0mfilename\u001b[0m\u001b[1;33m,\u001b[0m \u001b[0mdtype\u001b[0m\u001b[1;33m=\u001b[0m\u001b[1;34m'int16'\u001b[0m\u001b[1;33m,\u001b[0m \u001b[0msep\u001b[0m\u001b[1;33m=\u001b[0m\u001b[1;34m\"\"\u001b[0m\u001b[1;33m)\u001b[0m\u001b[1;33m\u001b[0m\u001b[1;33m\u001b[0m\u001b[0m\n\u001b[1;32m----> 6\u001b[1;33m \u001b[0mA\u001b[0m \u001b[1;33m=\u001b[0m \u001b[0mA\u001b[0m\u001b[1;33m.\u001b[0m\u001b[0mreshape\u001b[0m\u001b[1;33m(\u001b[0m\u001b[1;33m[\u001b[0m\u001b[1;36m1024\u001b[0m\u001b[1;33m,\u001b[0m \u001b[1;36m1024\u001b[0m\u001b[1;33m]\u001b[0m\u001b[1;33m)\u001b[0m\u001b[1;33m\u001b[0m\u001b[1;33m\u001b[0m\u001b[0m\n\u001b[0m\u001b[0;32m      7\u001b[0m \u001b[0mplt\u001b[0m\u001b[1;33m.\u001b[0m\u001b[0mimshow\u001b[0m\u001b[1;33m(\u001b[0m\u001b[0mA\u001b[0m\u001b[1;33m)\u001b[0m\u001b[1;33m\u001b[0m\u001b[1;33m\u001b[0m\u001b[0m\n",
      "\u001b[1;31mValueError\u001b[0m: cannot reshape array of size 34262 into shape (1024,1024)"
     ]
    }
   ],
   "source": [
    "import numpy as np\n",
    "from matplotlib import pylab as plt\n",
    "\n",
    "filename = 'C:/Users/User/Desktop/exelenteam/python/Notebooks/week05/resources/logo.jpg'\n",
    "A = np.fromfile(filename, dtype='int16', sep=\"\")\n",
    "A = A.reshape([1024, 1024])\n",
    "plt.imshow(A)"
   ]
  },
  {
   "cell_type": "code",
   "execution_count": null,
   "id": "eeb91afc",
   "metadata": {},
   "outputs": [],
   "source": []
  },
  {
   "cell_type": "code",
   "execution_count": 32,
   "id": "4c058fea",
   "metadata": {},
   "outputs": [],
   "source": [
    "try:\n",
    "    with open(filename, \"rb\") as f:\n",
    "        byte = f.read(1)\n",
    "        while byte:\n",
    "            # Do stuff with byte.\n",
    "            byte = f.read(1)\n",
    "            try:\n",
    "                num = int(byte, 2)\n",
    "                if num>ord('z') or num<ord('a'):\n",
    "                    continue\n",
    "                Ascii = chr(num)\n",
    "            except:\n",
    "                continue\n",
    "            print(Ascii)\n",
    "except IOError:\n",
    "     print('Error While Opening the file!')"
   ]
  },
  {
   "cell_type": "code",
   "execution_count": 33,
   "id": "ea6bbcaa",
   "metadata": {},
   "outputs": [
    {
     "name": "stdout",
     "output_type": "stream",
     "text": [
      "b\"21T9'(&ES(&$@0U,@4&]R=&%L\\n\"\n"
     ]
    }
   ],
   "source": [
    "# Python program to illustrate the\n",
    "# conversion of Binary to ASCII\n",
    " \n",
    "# Importing binascii module\n",
    "import binascii\n",
    " \n",
    "# Initializing a binary string\n",
    "Text = b\"GFG is a CS Portal\"\n",
    " \n",
    "# Calling the b2a_uu() function to\n",
    "# Convert the binary string to ascii\n",
    "Ascii = binascii.b2a_uu(Text)\n",
    " \n",
    "# Getting the ASCII equivalent\n",
    "print(Ascii)"
   ]
  },
  {
   "cell_type": "code",
   "execution_count": 34,
   "id": "b9ab08b3",
   "metadata": {},
   "outputs": [],
   "source": [
    "import binascii\n",
    "Ascii = binascii.b2a_uu(Text)"
   ]
  },
  {
   "cell_type": "code",
   "execution_count": 91,
   "id": "5610ddf5",
   "metadata": {},
   "outputs": [
    {
     "name": "stdout",
     "output_type": "stream",
     "text": [
      "6\n",
      "28\n",
      "496\n",
      "8128\n"
     ]
    },
    {
     "ename": "KeyboardInterrupt",
     "evalue": "",
     "output_type": "error",
     "traceback": [
      "\u001b[1;31m---------------------------------------------------------------------------\u001b[0m",
      "\u001b[1;31mKeyboardInterrupt\u001b[0m                         Traceback (most recent call last)",
      "\u001b[1;32m~\\AppData\\Local\\Temp\\ipykernel_5608\\3861723818.py\u001b[0m in \u001b[0;36m<module>\u001b[1;34m\u001b[0m\n\u001b[0;32m     11\u001b[0m \u001b[1;33m\u001b[0m\u001b[0m\n\u001b[0;32m     12\u001b[0m \u001b[0mour_generator\u001b[0m \u001b[1;33m=\u001b[0m \u001b[0mperfect_dish_to_share_5_3\u001b[0m\u001b[1;33m(\u001b[0m\u001b[1;33m)\u001b[0m\u001b[1;33m\u001b[0m\u001b[1;33m\u001b[0m\u001b[0m\n\u001b[1;32m---> 13\u001b[1;33m \u001b[1;32mfor\u001b[0m \u001b[0mitem\u001b[0m \u001b[1;32min\u001b[0m \u001b[0mour_generator\u001b[0m\u001b[1;33m:\u001b[0m\u001b[1;33m\u001b[0m\u001b[1;33m\u001b[0m\u001b[0m\n\u001b[0m\u001b[0;32m     14\u001b[0m     \u001b[0mprint\u001b[0m\u001b[1;33m(\u001b[0m\u001b[0mitem\u001b[0m\u001b[1;33m)\u001b[0m\u001b[1;33m\u001b[0m\u001b[1;33m\u001b[0m\u001b[0m\n",
      "\u001b[1;32m~\\AppData\\Local\\Temp\\ipykernel_5608\\3861723818.py\u001b[0m in \u001b[0;36mperfect_dish_to_share_5_3\u001b[1;34m()\u001b[0m\n\u001b[0;32m      4\u001b[0m         \u001b[0msum\u001b[0m \u001b[1;33m=\u001b[0m \u001b[1;36m0\u001b[0m\u001b[1;33m\u001b[0m\u001b[1;33m\u001b[0m\u001b[0m\n\u001b[0;32m      5\u001b[0m         \u001b[1;32mfor\u001b[0m \u001b[0mi\u001b[0m \u001b[1;32min\u001b[0m \u001b[0mrange\u001b[0m\u001b[1;33m(\u001b[0m\u001b[1;36m1\u001b[0m\u001b[1;33m,\u001b[0m \u001b[0mint\u001b[0m\u001b[1;33m(\u001b[0m\u001b[0mn\u001b[0m\u001b[1;33m/\u001b[0m\u001b[1;36m2\u001b[0m\u001b[1;33m)\u001b[0m\u001b[1;33m+\u001b[0m\u001b[1;36m1\u001b[0m\u001b[1;33m)\u001b[0m\u001b[1;33m:\u001b[0m\u001b[1;33m\u001b[0m\u001b[1;33m\u001b[0m\u001b[0m\n\u001b[1;32m----> 6\u001b[1;33m             \u001b[1;32mif\u001b[0m \u001b[0mn\u001b[0m \u001b[1;33m%\u001b[0m \u001b[0mi\u001b[0m \u001b[1;33m==\u001b[0m \u001b[1;36m0\u001b[0m\u001b[1;33m:\u001b[0m\u001b[1;33m\u001b[0m\u001b[1;33m\u001b[0m\u001b[0m\n\u001b[0m\u001b[0;32m      7\u001b[0m                 \u001b[0msum\u001b[0m \u001b[1;33m+=\u001b[0m \u001b[0mi\u001b[0m\u001b[1;33m\u001b[0m\u001b[1;33m\u001b[0m\u001b[0m\n\u001b[0;32m      8\u001b[0m         \u001b[1;32mif\u001b[0m \u001b[0msum\u001b[0m \u001b[1;33m==\u001b[0m \u001b[0mn\u001b[0m\u001b[1;33m:\u001b[0m\u001b[1;33m\u001b[0m\u001b[1;33m\u001b[0m\u001b[0m\n",
      "\u001b[1;31mKeyboardInterrupt\u001b[0m: "
     ]
    }
   ],
   "source": [
    "def perfect_dish_to_share_5_3():\n",
    "    n = 6\n",
    "    while (True):\n",
    "        sum = 0\n",
    "        for i in range(1, int(n/2)+1):\n",
    "            if n % i == 0:\n",
    "                sum += i\n",
    "        if sum == n:\n",
    "            yield n\n",
    "        n = n + 1\n",
    "        \n",
    "our_generator = perfect_dish_to_share_5_3()\n",
    "for item in our_generator:\n",
    "    print(item)"
   ]
  },
  {
   "cell_type": "code",
   "execution_count": 122,
   "id": "f3a2c758",
   "metadata": {},
   "outputs": [
    {
     "name": "stdout",
     "output_type": "stream",
     "text": [
      "[1, 3, 4, '$', 'i', 'm']\n"
     ]
    }
   ],
   "source": [
    "def cup_of_join_5_2(*parameters, sep='-'):\n",
    "    if not parameters:\n",
    "        return None\n",
    "    res = []\n",
    "    for par in parameters:\n",
    "        for i in par:\n",
    "            res.append(i)\n",
    "        res.append(sep)\n",
    "    res.pop()\n",
    "    print(res)\n",
    "\n",
    "cup_of_join([1,3,4],['i','m'],sep='$')"
   ]
  },
  {
   "cell_type": "code",
   "execution_count": 150,
   "id": "1c41666d",
   "metadata": {},
   "outputs": [
    {
     "name": "stdout",
     "output_type": "stream",
     "text": [
      "44\n",
      "54\n",
      "0\n"
     ]
    }
   ],
   "source": [
    "def get_recipe_price_5_2(d, optionals = [] , **kargs):\n",
    "    sum = 0\n",
    "    for key in d.keys():\n",
    "        if key not in optionals:\n",
    "            sum += d[key]*kargs[key]/100\n",
    "    print((int)(sum))\n",
    "get_recipe_price({'chocolate': 18, 'milk': 8}, chocolate=200, milk=100)\n",
    "get_recipe_price({'chocolate': 18, 'milk': 8}, optionals=['milk'], chocolate=300)\n",
    "get_recipe_price({})\n"
   ]
  }
 ],
 "metadata": {
  "kernelspec": {
   "display_name": "Python 3 (ipykernel)",
   "language": "python",
   "name": "python3"
  },
  "language_info": {
   "codemirror_mode": {
    "name": "ipython",
    "version": 3
   },
   "file_extension": ".py",
   "mimetype": "text/x-python",
   "name": "python",
   "nbconvert_exporter": "python",
   "pygments_lexer": "ipython3",
   "version": "3.9.13"
  }
 },
 "nbformat": 4,
 "nbformat_minor": 5
}
